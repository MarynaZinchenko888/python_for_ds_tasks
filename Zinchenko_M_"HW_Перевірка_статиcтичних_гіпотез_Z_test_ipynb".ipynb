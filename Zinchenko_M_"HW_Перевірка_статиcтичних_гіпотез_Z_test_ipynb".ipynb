{
  "cells": [
    {
      "cell_type": "markdown",
      "metadata": {
        "id": "view-in-github",
        "colab_type": "text"
      },
      "source": [
        "<a href=\"https://colab.research.google.com/github/MarynaZinchenko888/python_for_ds_tasks/blob/main/Zinchenko_M_%22HW_%D0%9F%D0%B5%D1%80%D0%B5%D0%B2%D1%96%D1%80%D0%BA%D0%B0_%D1%81%D1%82%D0%B0%D1%82%D0%B8c%D1%82%D0%B8%D1%87%D0%BD%D0%B8%D1%85_%D0%B3%D1%96%D0%BF%D0%BE%D1%82%D0%B5%D0%B7_Z_test_ipynb%22.ipynb\" target=\"_parent\"><img src=\"https://colab.research.google.com/assets/colab-badge.svg\" alt=\"Open In Colab\"/></a>"
      ]
    },
    {
      "cell_type": "markdown",
      "id": "e152f6d6",
      "metadata": {
        "ExecuteTime": {
          "end_time": "2022-12-10T14:29:24.703416Z",
          "start_time": "2022-12-10T14:29:24.688485Z"
        },
        "id": "e152f6d6"
      },
      "source": [
        "#Перевірка статиcтичних гіпотез. Z-test.\n",
        "\n"
      ]
    },
    {
      "cell_type": "markdown",
      "id": "cd404683",
      "metadata": {
        "id": "cd404683"
      },
      "source": [
        "0. Зчитайте дані з `data.csv` у змінну data, яка має тип pandas.DataFrame. Ми будемо далі працювати з цією змінною."
      ]
    },
    {
      "cell_type": "code",
      "source": [
        "from google.colab import drive\n",
        "drive.mount('/content/drive')"
      ],
      "metadata": {
        "colab": {
          "base_uri": "https://localhost:8080/"
        },
        "id": "AH5sO4x7S7LX",
        "outputId": "eb9a102a-fa7a-4f48-9560-9ffed7e1c4a6"
      },
      "id": "AH5sO4x7S7LX",
      "execution_count": 1,
      "outputs": [
        {
          "output_type": "stream",
          "name": "stdout",
          "text": [
            "Drive already mounted at /content/drive; to attempt to forcibly remount, call drive.mount(\"/content/drive\", force_remount=True).\n"
          ]
        }
      ]
    },
    {
      "cell_type": "code",
      "execution_count": 2,
      "id": "b20b6ba2",
      "metadata": {
        "id": "b20b6ba2",
        "colab": {
          "base_uri": "https://localhost:8080/",
          "height": 423
        },
        "outputId": "696e7b81-51fb-49b7-b378-7531a2d3f48c"
      },
      "outputs": [
        {
          "output_type": "execute_result",
          "data": {
            "text/plain": [
              "    Unnamed: 0       data\n",
              "0            0  17.499453\n",
              "1            1  19.662399\n",
              "2            2   7.182823\n",
              "3            3  29.841625\n",
              "4            4   9.239386\n",
              "..         ...        ...\n",
              "95          95  26.244944\n",
              "96          96  22.282832\n",
              "97          97  18.697188\n",
              "98          98  27.041189\n",
              "99          99   5.938381\n",
              "\n",
              "[100 rows x 2 columns]"
            ],
            "text/html": [
              "\n",
              "  <div id=\"df-f4c0bd25-383e-46b1-b30b-f889a59d303b\" class=\"colab-df-container\">\n",
              "    <div>\n",
              "<style scoped>\n",
              "    .dataframe tbody tr th:only-of-type {\n",
              "        vertical-align: middle;\n",
              "    }\n",
              "\n",
              "    .dataframe tbody tr th {\n",
              "        vertical-align: top;\n",
              "    }\n",
              "\n",
              "    .dataframe thead th {\n",
              "        text-align: right;\n",
              "    }\n",
              "</style>\n",
              "<table border=\"1\" class=\"dataframe\">\n",
              "  <thead>\n",
              "    <tr style=\"text-align: right;\">\n",
              "      <th></th>\n",
              "      <th>Unnamed: 0</th>\n",
              "      <th>data</th>\n",
              "    </tr>\n",
              "  </thead>\n",
              "  <tbody>\n",
              "    <tr>\n",
              "      <th>0</th>\n",
              "      <td>0</td>\n",
              "      <td>17.499453</td>\n",
              "    </tr>\n",
              "    <tr>\n",
              "      <th>1</th>\n",
              "      <td>1</td>\n",
              "      <td>19.662399</td>\n",
              "    </tr>\n",
              "    <tr>\n",
              "      <th>2</th>\n",
              "      <td>2</td>\n",
              "      <td>7.182823</td>\n",
              "    </tr>\n",
              "    <tr>\n",
              "      <th>3</th>\n",
              "      <td>3</td>\n",
              "      <td>29.841625</td>\n",
              "    </tr>\n",
              "    <tr>\n",
              "      <th>4</th>\n",
              "      <td>4</td>\n",
              "      <td>9.239386</td>\n",
              "    </tr>\n",
              "    <tr>\n",
              "      <th>...</th>\n",
              "      <td>...</td>\n",
              "      <td>...</td>\n",
              "    </tr>\n",
              "    <tr>\n",
              "      <th>95</th>\n",
              "      <td>95</td>\n",
              "      <td>26.244944</td>\n",
              "    </tr>\n",
              "    <tr>\n",
              "      <th>96</th>\n",
              "      <td>96</td>\n",
              "      <td>22.282832</td>\n",
              "    </tr>\n",
              "    <tr>\n",
              "      <th>97</th>\n",
              "      <td>97</td>\n",
              "      <td>18.697188</td>\n",
              "    </tr>\n",
              "    <tr>\n",
              "      <th>98</th>\n",
              "      <td>98</td>\n",
              "      <td>27.041189</td>\n",
              "    </tr>\n",
              "    <tr>\n",
              "      <th>99</th>\n",
              "      <td>99</td>\n",
              "      <td>5.938381</td>\n",
              "    </tr>\n",
              "  </tbody>\n",
              "</table>\n",
              "<p>100 rows × 2 columns</p>\n",
              "</div>\n",
              "    <div class=\"colab-df-buttons\">\n",
              "\n",
              "  <div class=\"colab-df-container\">\n",
              "    <button class=\"colab-df-convert\" onclick=\"convertToInteractive('df-f4c0bd25-383e-46b1-b30b-f889a59d303b')\"\n",
              "            title=\"Convert this dataframe to an interactive table.\"\n",
              "            style=\"display:none;\">\n",
              "\n",
              "  <svg xmlns=\"http://www.w3.org/2000/svg\" height=\"24px\" viewBox=\"0 -960 960 960\">\n",
              "    <path d=\"M120-120v-720h720v720H120Zm60-500h600v-160H180v160Zm220 220h160v-160H400v160Zm0 220h160v-160H400v160ZM180-400h160v-160H180v160Zm440 0h160v-160H620v160ZM180-180h160v-160H180v160Zm440 0h160v-160H620v160Z\"/>\n",
              "  </svg>\n",
              "    </button>\n",
              "\n",
              "  <style>\n",
              "    .colab-df-container {\n",
              "      display:flex;\n",
              "      gap: 12px;\n",
              "    }\n",
              "\n",
              "    .colab-df-convert {\n",
              "      background-color: #E8F0FE;\n",
              "      border: none;\n",
              "      border-radius: 50%;\n",
              "      cursor: pointer;\n",
              "      display: none;\n",
              "      fill: #1967D2;\n",
              "      height: 32px;\n",
              "      padding: 0 0 0 0;\n",
              "      width: 32px;\n",
              "    }\n",
              "\n",
              "    .colab-df-convert:hover {\n",
              "      background-color: #E2EBFA;\n",
              "      box-shadow: 0px 1px 2px rgba(60, 64, 67, 0.3), 0px 1px 3px 1px rgba(60, 64, 67, 0.15);\n",
              "      fill: #174EA6;\n",
              "    }\n",
              "\n",
              "    .colab-df-buttons div {\n",
              "      margin-bottom: 4px;\n",
              "    }\n",
              "\n",
              "    [theme=dark] .colab-df-convert {\n",
              "      background-color: #3B4455;\n",
              "      fill: #D2E3FC;\n",
              "    }\n",
              "\n",
              "    [theme=dark] .colab-df-convert:hover {\n",
              "      background-color: #434B5C;\n",
              "      box-shadow: 0px 1px 3px 1px rgba(0, 0, 0, 0.15);\n",
              "      filter: drop-shadow(0px 1px 2px rgba(0, 0, 0, 0.3));\n",
              "      fill: #FFFFFF;\n",
              "    }\n",
              "  </style>\n",
              "\n",
              "    <script>\n",
              "      const buttonEl =\n",
              "        document.querySelector('#df-f4c0bd25-383e-46b1-b30b-f889a59d303b button.colab-df-convert');\n",
              "      buttonEl.style.display =\n",
              "        google.colab.kernel.accessAllowed ? 'block' : 'none';\n",
              "\n",
              "      async function convertToInteractive(key) {\n",
              "        const element = document.querySelector('#df-f4c0bd25-383e-46b1-b30b-f889a59d303b');\n",
              "        const dataTable =\n",
              "          await google.colab.kernel.invokeFunction('convertToInteractive',\n",
              "                                                    [key], {});\n",
              "        if (!dataTable) return;\n",
              "\n",
              "        const docLinkHtml = 'Like what you see? Visit the ' +\n",
              "          '<a target=\"_blank\" href=https://colab.research.google.com/notebooks/data_table.ipynb>data table notebook</a>'\n",
              "          + ' to learn more about interactive tables.';\n",
              "        element.innerHTML = '';\n",
              "        dataTable['output_type'] = 'display_data';\n",
              "        await google.colab.output.renderOutput(dataTable, element);\n",
              "        const docLink = document.createElement('div');\n",
              "        docLink.innerHTML = docLinkHtml;\n",
              "        element.appendChild(docLink);\n",
              "      }\n",
              "    </script>\n",
              "  </div>\n",
              "\n",
              "\n",
              "    <div id=\"df-f17f28c2-03da-4225-abf0-f96033bac022\">\n",
              "      <button class=\"colab-df-quickchart\" onclick=\"quickchart('df-f17f28c2-03da-4225-abf0-f96033bac022')\"\n",
              "                title=\"Suggest charts\"\n",
              "                style=\"display:none;\">\n",
              "\n",
              "<svg xmlns=\"http://www.w3.org/2000/svg\" height=\"24px\"viewBox=\"0 0 24 24\"\n",
              "     width=\"24px\">\n",
              "    <g>\n",
              "        <path d=\"M19 3H5c-1.1 0-2 .9-2 2v14c0 1.1.9 2 2 2h14c1.1 0 2-.9 2-2V5c0-1.1-.9-2-2-2zM9 17H7v-7h2v7zm4 0h-2V7h2v10zm4 0h-2v-4h2v4z\"/>\n",
              "    </g>\n",
              "</svg>\n",
              "      </button>\n",
              "\n",
              "<style>\n",
              "  .colab-df-quickchart {\n",
              "      --bg-color: #E8F0FE;\n",
              "      --fill-color: #1967D2;\n",
              "      --hover-bg-color: #E2EBFA;\n",
              "      --hover-fill-color: #174EA6;\n",
              "      --disabled-fill-color: #AAA;\n",
              "      --disabled-bg-color: #DDD;\n",
              "  }\n",
              "\n",
              "  [theme=dark] .colab-df-quickchart {\n",
              "      --bg-color: #3B4455;\n",
              "      --fill-color: #D2E3FC;\n",
              "      --hover-bg-color: #434B5C;\n",
              "      --hover-fill-color: #FFFFFF;\n",
              "      --disabled-bg-color: #3B4455;\n",
              "      --disabled-fill-color: #666;\n",
              "  }\n",
              "\n",
              "  .colab-df-quickchart {\n",
              "    background-color: var(--bg-color);\n",
              "    border: none;\n",
              "    border-radius: 50%;\n",
              "    cursor: pointer;\n",
              "    display: none;\n",
              "    fill: var(--fill-color);\n",
              "    height: 32px;\n",
              "    padding: 0;\n",
              "    width: 32px;\n",
              "  }\n",
              "\n",
              "  .colab-df-quickchart:hover {\n",
              "    background-color: var(--hover-bg-color);\n",
              "    box-shadow: 0 1px 2px rgba(60, 64, 67, 0.3), 0 1px 3px 1px rgba(60, 64, 67, 0.15);\n",
              "    fill: var(--button-hover-fill-color);\n",
              "  }\n",
              "\n",
              "  .colab-df-quickchart-complete:disabled,\n",
              "  .colab-df-quickchart-complete:disabled:hover {\n",
              "    background-color: var(--disabled-bg-color);\n",
              "    fill: var(--disabled-fill-color);\n",
              "    box-shadow: none;\n",
              "  }\n",
              "\n",
              "  .colab-df-spinner {\n",
              "    border: 2px solid var(--fill-color);\n",
              "    border-color: transparent;\n",
              "    border-bottom-color: var(--fill-color);\n",
              "    animation:\n",
              "      spin 1s steps(1) infinite;\n",
              "  }\n",
              "\n",
              "  @keyframes spin {\n",
              "    0% {\n",
              "      border-color: transparent;\n",
              "      border-bottom-color: var(--fill-color);\n",
              "      border-left-color: var(--fill-color);\n",
              "    }\n",
              "    20% {\n",
              "      border-color: transparent;\n",
              "      border-left-color: var(--fill-color);\n",
              "      border-top-color: var(--fill-color);\n",
              "    }\n",
              "    30% {\n",
              "      border-color: transparent;\n",
              "      border-left-color: var(--fill-color);\n",
              "      border-top-color: var(--fill-color);\n",
              "      border-right-color: var(--fill-color);\n",
              "    }\n",
              "    40% {\n",
              "      border-color: transparent;\n",
              "      border-right-color: var(--fill-color);\n",
              "      border-top-color: var(--fill-color);\n",
              "    }\n",
              "    60% {\n",
              "      border-color: transparent;\n",
              "      border-right-color: var(--fill-color);\n",
              "    }\n",
              "    80% {\n",
              "      border-color: transparent;\n",
              "      border-right-color: var(--fill-color);\n",
              "      border-bottom-color: var(--fill-color);\n",
              "    }\n",
              "    90% {\n",
              "      border-color: transparent;\n",
              "      border-bottom-color: var(--fill-color);\n",
              "    }\n",
              "  }\n",
              "</style>\n",
              "\n",
              "      <script>\n",
              "        async function quickchart(key) {\n",
              "          const quickchartButtonEl =\n",
              "            document.querySelector('#' + key + ' button');\n",
              "          quickchartButtonEl.disabled = true;  // To prevent multiple clicks.\n",
              "          quickchartButtonEl.classList.add('colab-df-spinner');\n",
              "          try {\n",
              "            const charts = await google.colab.kernel.invokeFunction(\n",
              "                'suggestCharts', [key], {});\n",
              "          } catch (error) {\n",
              "            console.error('Error during call to suggestCharts:', error);\n",
              "          }\n",
              "          quickchartButtonEl.classList.remove('colab-df-spinner');\n",
              "          quickchartButtonEl.classList.add('colab-df-quickchart-complete');\n",
              "        }\n",
              "        (() => {\n",
              "          let quickchartButtonEl =\n",
              "            document.querySelector('#df-f17f28c2-03da-4225-abf0-f96033bac022 button');\n",
              "          quickchartButtonEl.style.display =\n",
              "            google.colab.kernel.accessAllowed ? 'block' : 'none';\n",
              "        })();\n",
              "      </script>\n",
              "    </div>\n",
              "    </div>\n",
              "  </div>\n"
            ],
            "application/vnd.google.colaboratory.intrinsic+json": {
              "type": "dataframe",
              "variable_name": "df",
              "summary": "{\n  \"name\": \"df\",\n  \"rows\": 100,\n  \"fields\": [\n    {\n      \"column\": \"Unnamed: 0\",\n      \"properties\": {\n        \"dtype\": \"number\",\n        \"std\": 29,\n        \"min\": 0,\n        \"max\": 99,\n        \"num_unique_values\": 100,\n        \"samples\": [\n          83,\n          53,\n          70\n        ],\n        \"semantic_type\": \"\",\n        \"description\": \"\"\n      }\n    },\n    {\n      \"column\": \"data\",\n      \"properties\": {\n        \"dtype\": \"number\",\n        \"std\": 6.25356123240434,\n        \"min\": 4.043303261699069,\n        \"max\": 33.75324807688975,\n        \"num_unique_values\": 100,\n        \"samples\": [\n          27.489277523582203,\n          19.55317542263612,\n          16.080498393247787\n        ],\n        \"semantic_type\": \"\",\n        \"description\": \"\"\n      }\n    }\n  ]\n}"
            }
          },
          "metadata": {},
          "execution_count": 2
        }
      ],
      "source": [
        "import pandas as pd\n",
        "import numpy as np\n",
        "import matplotlib.pyplot as plt\n",
        "import seaborn as sns\n",
        "from scipy import stats\n",
        "\n",
        "# Налаштування для візуалізації\n",
        "plt.rcParams['figure.figsize'] = (12, 7)\n",
        "plt.rcParams['font.size'] = 12\n",
        "\n",
        "\n",
        "df = pd.read_csv(\"data.csv\")\n",
        "df"
      ]
    },
    {
      "cell_type": "markdown",
      "id": "3d06cbbf",
      "metadata": {
        "id": "3d06cbbf"
      },
      "source": [
        "Запустіть код нижче. Для коректної робити всіх подальших методів дані мають бути у вигляді одновимірного `numpy.ndarray` вектора та мати розмірність (100,). Така розмірність означає, що дані - одновимірні (колонка), якщо б розмірність була (100, 1), то дані сприймаються методами як двовимірні (таблиця), хоча для нас виглядати можуть так само."
      ]
    },
    {
      "cell_type": "code",
      "execution_count": 4,
      "id": "cce1632b",
      "metadata": {
        "id": "cce1632b"
      },
      "outputs": [],
      "source": [
        "data = df[\"data\"].values\n",
        "data = data.ravel()"
      ]
    },
    {
      "cell_type": "code",
      "source": [
        "print(type(data))\n",
        "data.shape"
      ],
      "metadata": {
        "colab": {
          "base_uri": "https://localhost:8080/"
        },
        "id": "PSjqiR4coM2k",
        "outputId": "9e09ecfa-5446-47da-d7cf-954efda27b26"
      },
      "id": "PSjqiR4coM2k",
      "execution_count": 5,
      "outputs": [
        {
          "output_type": "stream",
          "name": "stdout",
          "text": [
            "<class 'numpy.ndarray'>\n"
          ]
        },
        {
          "output_type": "execute_result",
          "data": {
            "text/plain": [
              "(100,)"
            ]
          },
          "metadata": {},
          "execution_count": 5
        }
      ]
    },
    {
      "cell_type": "markdown",
      "id": "abdcef5d",
      "metadata": {
        "id": "abdcef5d"
      },
      "source": [
        "**Завдання 1**. Зчитані дані - це сума покупок в доларах наших покупців на сайті протягом липня 2025 року.\n",
        "\n",
        "До цього місяця, ми мали продажі в середньому на чек $20.\n",
        "\n",
        "Необхідно зʼясувати, чи вийшло у нас статистично значущо **підвищити** середній чек за липень 2025?\n",
        "\n",
        "Аби дати відповідь - ми проведемо z-test на рівні значущості $\\alpha=0.05$ двома способами. В цьому завданні ми будемо виконувати обчислення \"вручну\" з використанням бібліотек numpy та scipy.stats подібно до прикладу в лекції. Для цього виконайте наступні 7 кроків. Правильне виконання кожного з кроків оцінюється в 1 бал.\n",
        "\n",
        "1. Запишіть параметри задачі у змінні Python:\n",
        "    - `sample_mean` - $\\bar{x}$, середнє значення в вибірці\n",
        "    - `population_mean` - $\\mu_0$, середнє значення в популяції (тобто те, з яким ми порівнюємо середнє вибіркове значення)\n",
        "    - `population_std` - $\\sigma$, вибіркове стандартне відхилення, яке ми вважаємо, що є рівним ст. відх. популяції, адже маємо достатньо велику вибірку.\n",
        "    - `sample_size` - $n$, розмір вибірки\n",
        "    - `alpha` - $\\alpha$ рівень значущості\n",
        "    \n",
        "    **Увага!** Для обчислення стандартного відхилення маємо скористатись функцією `np.std(your_dataframe, ddof=1)`. Чому так - розбираємо в лекції про t-test.\n",
        "\n",
        "\n",
        "2. Визначте для цієї задачі:\n",
        "    - якою є гіпотеза $H_0$\n",
        "    - якою є альтернативна гіпотеза $H_a$\n",
        "    - з яким типом тесту ми маємо справу - лівосторонній, правосторонній чи двосторонній.\n",
        "\n",
        "3. Обчисліть стандартну помилку SE.\n",
        "4. Розрахуйте z-статистику.\n",
        "5. Знайдіть критичне z-значення з допомогою бібліотеки stats.\n",
        "6. Обчисліть p-value з допомогою бібліотеки stats.\n",
        "7. Прийміть рішення, чи відхиляєте ви гіпотезу $H_0$. Для прийняття рішення зробіть і порівняння z-статистики з критичним значенням, і проаналізуйте p-value."
      ]
    },
    {
      "cell_type": "markdown",
      "source": [
        "### Завдання 1.1: Визначаємо параметри задачі\n",
        "\n"
      ],
      "metadata": {
        "id": "CCiSjtumu6NH"
      },
      "id": "CCiSjtumu6NH"
    },
    {
      "cell_type": "code",
      "source": [
        "sample_mean = np.mean(df[\"data\"].values)                # x̄ - середнє значення у вибірці\n",
        "population_mean = 20                                    # μ₀ - середнє значення в популяції (тобто те, з яким ми порівнюємо середнє вибіркове значення)\n",
        "population_std = np.std(df.values.ravel(), ddof=1)      # σ - стандартне відхилення в популяції\n",
        "sample_size = len(data)                                 # n , розмір вибірки\n",
        "alpha = 0.05                                            # α - рівень значущості (ймовірність помилки I роду)"
      ],
      "metadata": {
        "id": "N1T_SOGpsHn_"
      },
      "id": "N1T_SOGpsHn_",
      "execution_count": 12,
      "outputs": []
    },
    {
      "cell_type": "code",
      "source": [
        "print(\"Середнє значення у вибірці: x̄ =\", sample_mean)\n",
        "print(\"Середнє значення в популяції: μ0 =\", population_mean)\n",
        "print(\"Стандартне відхилення в популяції: σ =\", population_std)\n",
        "print(\"Розмір вибірки: n =\", sample_size)\n",
        "print(\"Рівень значущості: α =\", alpha)"
      ],
      "metadata": {
        "id": "NX2XezWLdf4t",
        "colab": {
          "base_uri": "https://localhost:8080/"
        },
        "outputId": "fd71d22a-84c9-4417-ff8f-627257dd52a6"
      },
      "id": "NX2XezWLdf4t",
      "execution_count": 16,
      "outputs": [
        {
          "output_type": "stream",
          "name": "stdout",
          "text": [
            "Середнє значення у вибірці: x̄ = 19.37755319670441\n",
            "Середнє значення в популяції: μ0 = 20\n",
            "Стандартне відхилення в популяції: σ = 25.809963197550587\n",
            "Розмір вибірки: n = 100\n",
            "Рівень значущості: α = 0.05\n"
          ]
        }
      ]
    },
    {
      "cell_type": "markdown",
      "source": [
        "\n",
        "### Завдання 1.2: Формулюємо гіпотези\n",
        "\n",
        "**Гіпотези**   \n",
        "\n",
        "H₀: μ = 20 (середній чек не змінився)  \n",
        "H₁: μ > 20 (середній чек збільшився)  \n",
        "Тип тесту: правосторонній (one-tailed)  \n",
        "\n",
        "**Чому саме правосторонній тест?**\n",
        "\n",
        "Тому, що потрібно визначити, чи вийшло у нас статистично значущо **підвищити** середній чек за липень 2025.\n"
      ],
      "metadata": {
        "id": "H2tDwpXnyKzH"
      },
      "id": "H2tDwpXnyKzH"
    },
    {
      "cell_type": "markdown",
      "source": [
        "### Завдання 1.3: Обчислюємо стандартну помилку\n",
        "\n",
        "\n",
        "- σ = 25.80996 - стандартне відхилення IQ в популяції (наскільки розкидані IQ окремих людей)\n",
        "- SE = σ/√n = 25.80996/√100 ≈ 2.5810 - стандартна помилка (наскільки в середньому відхиляється середній чек вибірки зі 100 покупок від справжнього середнього)"
      ],
      "metadata": {
        "id": "8s0aM14WzRqQ"
      },
      "id": "8s0aM14WzRqQ"
    },
    {
      "cell_type": "code",
      "source": [
        "# Формула: SE = σ / √n\n",
        "standard_error = population_std / np.sqrt(sample_size)\n",
        "\n",
        "print(\"=\" * 60)\n",
        "print(\"ОБЧИСЛЕННЯ СТАНДАРТНОЇ ПОМИЛКИ:\")\n",
        "print(\"=\" * 60)\n",
        "print(\"Формула: SE = σ / √n\")\n",
        "print(f\"SE = {population_std} / √{sample_size}\")\n",
        "print(f\"SE = {population_std} / {np.sqrt(sample_size):.3f}\")\n",
        "print(f\"SE = {standard_error:.3f}\")\n",
        "print()\n",
        "print(\"Інтерпретація: В середньому, вибіркове середнє відхиляється\")\n",
        "print(f\"від справжнього середнього на ±{standard_error:.3f} доларів США\")"
      ],
      "metadata": {
        "colab": {
          "base_uri": "https://localhost:8080/"
        },
        "id": "a__coI2wy-e2",
        "outputId": "dc55dae5-3f53-437b-da24-4ce74c4f627d"
      },
      "id": "a__coI2wy-e2",
      "execution_count": 17,
      "outputs": [
        {
          "output_type": "stream",
          "name": "stdout",
          "text": [
            "============================================================\n",
            "ОБЧИСЛЕННЯ СТАНДАРТНОЇ ПОМИЛКИ:\n",
            "============================================================\n",
            "Формула: SE = σ / √n\n",
            "SE = 25.809963197550587 / √100\n",
            "SE = 25.809963197550587 / 10.000\n",
            "SE = 2.581\n",
            "\n",
            "Інтерпретація: В середньому, вибіркове середнє відхиляється\n",
            "від справжнього середнього на ±2.581 доларів США\n"
          ]
        }
      ]
    },
    {
      "cell_type": "markdown",
      "source": [
        "### Завдання 1.4: Розрахунок z-статистики"
      ],
      "metadata": {
        "id": "9x4xYSdw29ZA"
      },
      "id": "9x4xYSdw29ZA"
    },
    {
      "cell_type": "code",
      "source": [
        "# Формула: z = (x̄ - μ₀) / SE\n",
        "z_statistic = (sample_mean - population_mean) / standard_error\n",
        "\n",
        "print(\"=\" * 60)\n",
        "print(\"РОЗРАХУНОК Z-СТАТИСТИКИ:\")\n",
        "print(\"=\" * 60)\n",
        "print(\"Формула: z = (x̄ - μ₀) / SE\")\n",
        "print(f\"z = ({sample_mean} - {population_mean}) / {standard_error:.3f}\")\n",
        "print(f\"z = {sample_mean - population_mean} / {standard_error:.3f}\")\n",
        "print(f\"z = {z_statistic:.3f}\")\n",
        "print()\n",
        "print(\"Інтерпретація:\")\n",
        "print(f\"Наше вибіркове середнє відхиляється на {z_statistic:.3f} стандартних\")\n",
        "print(\"помилок від гіпотетичного середнього популяції.\")\n",
        "print()\n",
        "if z_statistic > 2:\n",
        "    print(\"Це досить велике відхилення. (більше 2 стандартних помилок)\")\n",
        "elif z_statistic > 1:\n",
        "    print(\"Це помірне відхилення (між 1 та 2 стандартними помилками)\")\n",
        "else:\n",
        "    print(\"Це невелике відхилення (менше 1 стандартної помилки)\")"
      ],
      "metadata": {
        "colab": {
          "base_uri": "https://localhost:8080/"
        },
        "id": "u5XmFh3lzJfl",
        "outputId": "cc7cce61-5bc4-4006-fc23-ed91ea8a2c63"
      },
      "id": "u5XmFh3lzJfl",
      "execution_count": 18,
      "outputs": [
        {
          "output_type": "stream",
          "name": "stdout",
          "text": [
            "============================================================\n",
            "РОЗРАХУНОК Z-СТАТИСТИКИ:\n",
            "============================================================\n",
            "Формула: z = (x̄ - μ₀) / SE\n",
            "z = (19.37755319670441 - 20) / 2.581\n",
            "z = -0.6224468032955883 / 2.581\n",
            "z = -0.241\n",
            "\n",
            "Інтерпретація:\n",
            "Наше вибіркове середнє відхиляється на -0.241 стандартних\n",
            "помилок від гіпотетичного середнього популяції.\n",
            "\n",
            "Це невелике відхилення (менше 1 стандартної помилки)\n"
          ]
        }
      ]
    },
    {
      "cell_type": "markdown",
      "source": [
        "### Завдання 1.5: Знайти критичне z-значення за допомогою бібліотеки stats."
      ],
      "metadata": {
        "id": "vu3Ez8yM3xT4"
      },
      "id": "vu3Ez8yM3xT4"
    },
    {
      "cell_type": "code",
      "source": [
        "# Для правостороннього тесту з α = 0.05\n",
        "z_critical = stats.norm.ppf(1 - alpha)\n",
        "\n",
        "print(\"=\" * 60)\n",
        "print(\"КРИТИЧНЕ ЗНАЧЕННЯ:\")\n",
        "print(\"=\" * 60)\n",
        "print(f\"Для рівня значущості α = {alpha} (правосторонній тест)\")\n",
        "print(f\"Критичне z-значення = {z_critical:.3f}\")\n",
        "print()\n",
        "print(\"Що це означає?\")\n",
        "print(f\"Якщо z-статистика > {z_critical:.3f}, то результат настільки\")\n",
        "print(\"незвичайний, що ми не віримо у випадковість за гіпотезою Н0.\")\n",
        "print(f\"Ймовірність отримати z > {z_critical:.3f} випадково = {alpha*100}%\")"
      ],
      "metadata": {
        "colab": {
          "base_uri": "https://localhost:8080/"
        },
        "id": "qe60GoiozJW9",
        "outputId": "42840311-1be0-4bc8-c679-66b547f470d1"
      },
      "id": "qe60GoiozJW9",
      "execution_count": 19,
      "outputs": [
        {
          "output_type": "stream",
          "name": "stdout",
          "text": [
            "============================================================\n",
            "КРИТИЧНЕ ЗНАЧЕННЯ:\n",
            "============================================================\n",
            "Для рівня значущості α = 0.05 (правосторонній тест)\n",
            "Критичне z-значення = 1.645\n",
            "\n",
            "Що це означає?\n",
            "Якщо z-статистика > 1.645, то результат настільки\n",
            "незвичайний, що ми не віримо у випадковість за гіпотезою Н0.\n",
            "Ймовірність отримати z > 1.645 випадково = 5.0%\n"
          ]
        }
      ]
    },
    {
      "cell_type": "markdown",
      "source": [
        "### Завдання 1.6: Обчислити p-value за допомогою бібліотеки stats."
      ],
      "metadata": {
        "id": "Z4fHdXMw4nMg"
      },
      "id": "Z4fHdXMw4nMg"
    },
    {
      "cell_type": "code",
      "source": [
        "# Для правостороннього тесту: p-value = P(Z > z_statistic)\n",
        "p_value = 1 - stats.norm.cdf(z_statistic)\n",
        "\n",
        "print(\"=\" * 60)\n",
        "print(\"P-VALUE:\")\n",
        "print(\"=\" * 60)\n",
        "print(f\"p-value = {p_value:.4f}\")\n",
        "print()\n",
        "print(\"Що це означає?\")\n",
        "print(f\"Якщо H₀ правильна (середній чек не змінився), то ймовірність\")\n",
        "print(f\"випадково отримати середній чек ≥ {sample_mean} становить {p_value:.4f}\")\n",
        "print(f\"або приблизно {p_value*100:.4f}%\")\n",
        "print()\n",
        "if p_value < 0.001:\n",
        "    print(\"Це НАДЗВИЧАЙНО малоймовірно! (менше 0.1%)\")\n",
        "elif p_value < 0.01:\n",
        "    print(\"Це дуже малоймовірно! (менше 1%)\")\n",
        "elif p_value < 0.05:\n",
        "    print(\"Це малоймовірно! (менше 5%)\")\n",
        "else:\n",
        "    print(\"Це цілком можливо випадково\")"
      ],
      "metadata": {
        "colab": {
          "base_uri": "https://localhost:8080/"
        },
        "id": "9abtv8DQzJPN",
        "outputId": "bc7476b3-4b8b-4b11-b6d2-e333ca6ef98b"
      },
      "id": "9abtv8DQzJPN",
      "execution_count": 20,
      "outputs": [
        {
          "output_type": "stream",
          "name": "stdout",
          "text": [
            "============================================================\n",
            "P-VALUE:\n",
            "============================================================\n",
            "p-value = 0.5953\n",
            "\n",
            "Що це означає?\n",
            "Якщо H₀ правильна (середній чек не змінився), то ймовірність\n",
            "випадково отримати середній чек ≥ 19.37755319670441 становить 0.5953\n",
            "або приблизно 59.5287%\n",
            "\n",
            "Це цілком можливо випадково\n"
          ]
        }
      ]
    },
    {
      "cell_type": "markdown",
      "source": [
        "### 1.7 Прийняття рішення щодо відхилення гіпотези $H_0$.\n"
      ],
      "metadata": {
        "id": "bAZuFKusbWnw"
      },
      "id": "bAZuFKusbWnw"
    },
    {
      "cell_type": "markdown",
      "source": [
        "Метод 1: Порівняння z-статистики з критичним значенням"
      ],
      "metadata": {
        "id": "SqXakv1PiNfl"
      },
      "id": "SqXakv1PiNfl"
    },
    {
      "cell_type": "code",
      "source": [
        "print(\"=\" * 60)\n",
        "print(\"МЕТОД 1: Порівняння z-статистики з критичним значенням\")\n",
        "print(\"=\" * 60)\n",
        "print(f\"z-статистика = {z_statistic:.3f}\")\n",
        "print(f\"Критичне значення = {z_critical:.3f}\")\n",
        "print(f\"Порівняння: {z_statistic:.3f} {'>' if z_statistic > z_critical else '≤'} {z_critical:.3f}\")\n",
        "\n",
        "if z_statistic > z_critical:\n",
        "    print(\"Висновок: z-статистика ПЕРЕВИЩУЄ критичне значення\")\n",
        "    decision1 = \"ВІДХИЛЯЄМО H₀\"\n",
        "else:\n",
        "    print(\"Висновок: z-статистика НЕ перевищує критичне значення\")\n",
        "    decision1 = \"НЕ ВІДХИЛЯЄМО H₀\"\n",
        "\n",
        "print(f\"Рішення: {decision1}\")"
      ],
      "metadata": {
        "colab": {
          "base_uri": "https://localhost:8080/"
        },
        "id": "s0dzyCo8iISE",
        "outputId": "7dc8fb0e-5936-4268-b79e-a31c64ac0706"
      },
      "id": "s0dzyCo8iISE",
      "execution_count": 21,
      "outputs": [
        {
          "output_type": "stream",
          "name": "stdout",
          "text": [
            "============================================================\n",
            "МЕТОД 1: Порівняння z-статистики з критичним значенням\n",
            "============================================================\n",
            "z-статистика = -0.241\n",
            "Критичне значення = 1.645\n",
            "Порівняння: -0.241 ≤ 1.645\n",
            "Висновок: z-статистика НЕ перевищує критичне значення\n",
            "Рішення: НЕ ВІДХИЛЯЄМО H₀\n"
          ]
        }
      ]
    },
    {
      "cell_type": "markdown",
      "source": [
        "Метод 2: Порівняння p-value з рівнем значущості\n",
        "\n"
      ],
      "metadata": {
        "id": "7jKG0-DxiV7l"
      },
      "id": "7jKG0-DxiV7l"
    },
    {
      "cell_type": "code",
      "source": [
        "print(\"\\n\" + \"=\" * 60)\n",
        "print(\"МЕТОД 2: Порівняння p-value з рівнем значущості\")\n",
        "print(\"=\" * 60)\n",
        "print(f\"p-value = {p_value:.6f}\")\n",
        "print(f\"Рівень значущості α = {alpha}\")\n",
        "print(f\"Порівняння: {p_value:.6f} {'<' if p_value < alpha else '≥'} {alpha}\")\n",
        "\n",
        "if p_value < alpha:\n",
        "    print(\"Висновок: p-value МЕНШЕ за рівень значущості\")\n",
        "    decision2 = \"ВІДХИЛЯЄМО H₀\"\n",
        "else:\n",
        "    print(\"Висновок: p-value НЕ менше за рівень значущості\")\n",
        "    decision2 = \"НЕ ВІДХИЛЯЄМО H₀\"\n",
        "\n",
        "print(f\"Рішення: {decision2}\")"
      ],
      "metadata": {
        "colab": {
          "base_uri": "https://localhost:8080/"
        },
        "id": "K4D85HcTibZW",
        "outputId": "ce397886-7d7c-441d-8099-d4fae8571cd0"
      },
      "id": "K4D85HcTibZW",
      "execution_count": 25,
      "outputs": [
        {
          "output_type": "stream",
          "name": "stdout",
          "text": [
            "\n",
            "============================================================\n",
            "МЕТОД 2: Порівняння p-value з рівнем значущості\n",
            "============================================================\n",
            "p-value = 0.595287\n",
            "Рівень значущості α = 0.05\n",
            "Порівняння: 0.595287 ≥ 0.05\n",
            "Висновок: p-value НЕ менше за рівень значущості\n",
            "Рішення: НЕ ВІДХИЛЯЄМО H₀\n"
          ]
        }
      ]
    },
    {
      "cell_type": "markdown",
      "source": [
        "***Отже, середній чек за липень 2025 року не підвищився статистично значущо.\n",
        "Невелике зниження до ≈19.38 від 20 цілком пояснюється випадковими коливаннями у вибірці.***"
      ],
      "metadata": {
        "id": "AhfVXFohiplG"
      },
      "id": "AhfVXFohiplG"
    },
    {
      "cell_type": "markdown",
      "source": [
        "**Завдання 2.** Виконайте обчислення z-test з використанням бібліотеки statsmodels.\n",
        "\n",
        "Отримайте z-статистику та р-значення.\n",
        "\n",
        "Виведіть p-значення та зробіть висновок, чи ми маємо достатньо доказів, аби стверджувати, що середній чек зріс.\n",
        "\n",
        "Чи зійшлись значення z-статистику та р-значення в цьому завданні з попередніми обчисленнями?\n",
        "\n",
        "Завдання оцінюється в 3 бали."
      ],
      "metadata": {
        "id": "0FOBByRMXkL2"
      },
      "id": "0FOBByRMXkL2"
    },
    {
      "cell_type": "code",
      "source": [
        "from statsmodels.stats import weightstats as stests\n",
        "\n",
        "print(\"=\" * 60)\n",
        "print(\"ВИКОРИСТАННЯ STATSMODELS ДЛЯ Z-ТЕСТУ:\")\n",
        "print(\"=\" * 60)\n",
        "\n",
        "np.random.seed(95)  # Для відтворюваності результатів\n",
        "sample_data = np.random.normal(sample_mean, population_std, sample_size)\n",
        "\n",
        "# Коригуємо, щоб середнє було точно 110 (як у задачі)\n",
        "sample_data = sample_data - np.mean(sample_data) + sample_mean"
      ],
      "metadata": {
        "id": "f_Oa0DJhdg6v",
        "colab": {
          "base_uri": "https://localhost:8080/"
        },
        "outputId": "e56009e3-7742-4724-8168-8653c513e6b8"
      },
      "id": "f_Oa0DJhdg6v",
      "execution_count": 37,
      "outputs": [
        {
          "output_type": "stream",
          "name": "stdout",
          "text": [
            "============================================================\n",
            "ВИКОРИСТАННЯ STATSMODELS ДЛЯ Z-ТЕСТУ:\n",
            "============================================================\n"
          ]
        }
      ]
    },
    {
      "cell_type": "code",
      "source": [
        "sample_data"
      ],
      "metadata": {
        "colab": {
          "base_uri": "https://localhost:8080/"
        },
        "id": "yB6u4FVQePE2",
        "outputId": "58955fbf-d6e3-408a-fcc3-9397cdc0fe9f"
      },
      "id": "yB6u4FVQePE2",
      "execution_count": 38,
      "outputs": [
        {
          "output_type": "execute_result",
          "data": {
            "text/plain": [
              "array([  3.46074887,   5.57350273,  29.37055493,  36.07364053,\n",
              "        48.70120099,  23.11419184,  16.93240655,  66.59286527,\n",
              "        35.78538495,  20.88303218, 109.79535357,  -9.19750081,\n",
              "        25.53892125,  18.9685016 ,   5.32640963, -17.92467788,\n",
              "        10.4378014 ,  49.86328673,  25.39808167, -19.60676157,\n",
              "        12.80567296,  17.37617943,  45.46114821,   4.28491649,\n",
              "        -1.14645653,   2.67565429,  26.88148838,  19.831103  ,\n",
              "        38.97751148,  13.79826004, -16.14588742, -12.99562052,\n",
              "        16.59780851,  20.23019342,   3.01124911,  24.03073067,\n",
              "         9.42835363,  -0.70807995,  15.09132471,  31.08853194,\n",
              "        16.97350029, -20.59104138,  46.16151865,  30.46768175,\n",
              "        52.77683517,   8.81918219,   3.25839106,  12.36413927,\n",
              "         6.95494067,  23.4442503 ,   7.07488584,  23.91831578,\n",
              "        33.56375506,  20.47491015,  19.29376589,  35.33498514,\n",
              "       -29.31836172,  38.31398869,  25.56022045, -18.8803832 ,\n",
              "        49.53829722,  35.71340023,  31.26510751, -10.38826285,\n",
              "        92.7532802 ,  47.58272635,  25.64208245,  -1.51486796,\n",
              "        10.95934259,  11.59722239,  11.27595358, -20.64517956,\n",
              "         1.47315467,  36.62101339,  36.88831635,  10.12962371,\n",
              "        38.82836294,  10.23411653,  33.42535458,  44.28259408,\n",
              "        59.16771845,  28.19016367,  47.08363539,  11.52602628,\n",
              "        21.32309975,  16.1345369 ,  10.7304036 ,  19.0735796 ,\n",
              "        20.3556663 ,   7.89182178, -26.92459036, -16.75298066,\n",
              "        42.52568309,  36.25656962,  -7.6313229 ,  43.50116458,\n",
              "        11.21320755,  39.09820925,  -1.12626488, -11.169152  ])"
            ]
          },
          "metadata": {},
          "execution_count": 38
        }
      ]
    },
    {
      "cell_type": "code",
      "source": [
        "np.mean(sample_data)"
      ],
      "metadata": {
        "colab": {
          "base_uri": "https://localhost:8080/"
        },
        "id": "tl94ScWleO98",
        "outputId": "f187e892-9b46-4682-c802-c6d2de4b1bce"
      },
      "id": "tl94ScWleO98",
      "execution_count": 39,
      "outputs": [
        {
          "output_type": "execute_result",
          "data": {
            "text/plain": [
              "np.float64(19.37755319670441)"
            ]
          },
          "metadata": {},
          "execution_count": 39
        }
      ]
    },
    {
      "cell_type": "code",
      "source": [
        "print(f\"Згенеровані дані (симуляція 100 чеків):\")\n",
        "print(f\"  Кількість чеків (розмір вибірки): {len(sample_data)}\")\n",
        "print(f\"  Середній чек: {np.mean(sample_data):.2f}\")\n",
        "print(f\"  Стандартне відхилення: {np.std(sample_data, ddof=1):.2f}\")"
      ],
      "metadata": {
        "colab": {
          "base_uri": "https://localhost:8080/"
        },
        "id": "K4TVGFZJeOzj",
        "outputId": "084c270f-308c-4885-e315-0257da20ae00"
      },
      "id": "K4TVGFZJeOzj",
      "execution_count": 40,
      "outputs": [
        {
          "output_type": "stream",
          "name": "stdout",
          "text": [
            "Згенеровані дані (симуляція 100 чеків):\n",
            "  Кількість чеків (розмір вибірки): 100\n",
            "  Середній чек: 19.38\n",
            "  Стандартне відхилення: 23.54\n"
          ]
        }
      ]
    },
    {
      "cell_type": "code",
      "source": [
        "print(\"\\n\" + \"=\" * 60)\n",
        "print(\"ВИКОНАННЯ Z-ТЕСТУ:\")\n",
        "print(\"=\" * 60)\n",
        "\n",
        "# Виконуємо правосторонній z-тест\n",
        "z_stat_sm, p_val_sm = stests.ztest(sample_data,           # наші дані\n",
        "                                    value=population_mean,  # μ₀ = 100\n",
        "                                    alternative='larger')   # H₁: μ > 100\n",
        "\n",
        "print(f\"Результати z-тесту:\")\n",
        "print(f\"  Z-статистика: {z_stat_sm:.3f}\")\n",
        "print(f\"  P-value: {p_val_sm:.6f}\")\n",
        "print()\n",
        "\n",
        "# Інтерпретація результатів\n",
        "print(\"ІНТЕРПРЕТАЦІЯ:\")\n",
        "print(\"-\" * 40)\n",
        "if p_val_sm < alpha:\n",
        "    print(f\"✅ ВІДХИЛЯЄМО H₀\")\n",
        "    print(f\"   p-value ({p_val_sm:.6f}) < α ({alpha})\")\n",
        "    print(\"   Висновок: Середній чек за липень 2025 року збільшився\")\n",
        "else:\n",
        "    print(f\"❌ НЕ ВІДХИЛЯЄМО H₀\")\n",
        "    print(f\"   p-value ({p_val_sm:.6f}) ≥ α ({alpha})\")\n",
        "    print(\"   Висновок: Середній чек за липень 2025 не підвищився статистично значущо\")\n",
        "\n",
        "# Порівняння з ручними розрахунками\n",
        "print(\"\\n\" + \"=\" * 60)\n",
        "print(\"ПОРІВНЯННЯ З РУЧНИМИ РОЗРАХУНКАМИ:\")\n",
        "print(\"=\" * 60)\n",
        "print(f\"Z-статистика:\")\n",
        "print(f\"  Ручний розрахунок: {z_statistic:.3f}\")\n",
        "print(f\"  Statsmodels:       {z_stat_sm:.3f}\")\n",
        "print(f\"  Різниця:           {abs(z_statistic - z_stat_sm):.3f}\")\n",
        "print()\n",
        "print(\"Примітка: Невелика різниця пояснюється тим, що ми\")\n",
        "print(\"використовуємо згенеровані дані, а не точне середнє 100\")"
      ],
      "metadata": {
        "colab": {
          "base_uri": "https://localhost:8080/"
        },
        "id": "o9ExEqGfkME8",
        "outputId": "f4747ae9-d571-48f1-d7bb-c9eb2f291f4d"
      },
      "id": "o9ExEqGfkME8",
      "execution_count": 41,
      "outputs": [
        {
          "output_type": "stream",
          "name": "stdout",
          "text": [
            "\n",
            "============================================================\n",
            "ВИКОНАННЯ Z-ТЕСТУ:\n",
            "============================================================\n",
            "Результати z-тесту:\n",
            "  Z-статистика: -0.264\n",
            "  P-value: 0.604288\n",
            "\n",
            "ІНТЕРПРЕТАЦІЯ:\n",
            "----------------------------------------\n",
            "❌ НЕ ВІДХИЛЯЄМО H₀\n",
            "   p-value (0.604288) ≥ α (0.05)\n",
            "   Висновок: Середній чек за липень 2025 не підвищився статистично значущо\n",
            "\n",
            "============================================================\n",
            "ПОРІВНЯННЯ З РУЧНИМИ РОЗРАХУНКАМИ:\n",
            "============================================================\n",
            "Z-статистика:\n",
            "  Ручний розрахунок: -0.241\n",
            "  Statsmodels:       -0.264\n",
            "  Різниця:           0.023\n",
            "\n",
            "Примітка: Невелика різниця пояснюється тим, що ми\n",
            "використовуємо згенеровані дані, а не точне середнє 100\n"
          ]
        }
      ]
    }
  ],
  "metadata": {
    "hide_input": false,
    "kernelspec": {
      "display_name": "Python 3 (ipykernel)",
      "language": "python",
      "name": "python3"
    },
    "language_info": {
      "codemirror_mode": {
        "name": "ipython",
        "version": 3
      },
      "file_extension": ".py",
      "mimetype": "text/x-python",
      "name": "python",
      "nbconvert_exporter": "python",
      "pygments_lexer": "ipython3",
      "version": "3.11.3"
    },
    "toc": {
      "base_numbering": 1,
      "nav_menu": {},
      "number_sections": true,
      "sideBar": true,
      "skip_h1_title": false,
      "title_cell": "Table of Contents",
      "title_sidebar": "Contents",
      "toc_cell": false,
      "toc_position": {},
      "toc_section_display": true,
      "toc_window_display": false
    },
    "varInspector": {
      "cols": {
        "lenName": 16,
        "lenType": 16,
        "lenVar": 40
      },
      "kernels_config": {
        "python": {
          "delete_cmd_postfix": "",
          "delete_cmd_prefix": "del ",
          "library": "var_list.py",
          "varRefreshCmd": "print(var_dic_list())"
        },
        "r": {
          "delete_cmd_postfix": ") ",
          "delete_cmd_prefix": "rm(",
          "library": "var_list.r",
          "varRefreshCmd": "cat(var_dic_list()) "
        }
      },
      "types_to_exclude": [
        "module",
        "function",
        "builtin_function_or_method",
        "instance",
        "_Feature"
      ],
      "window_display": false
    },
    "colab": {
      "provenance": [],
      "include_colab_link": true
    }
  },
  "nbformat": 4,
  "nbformat_minor": 5
}