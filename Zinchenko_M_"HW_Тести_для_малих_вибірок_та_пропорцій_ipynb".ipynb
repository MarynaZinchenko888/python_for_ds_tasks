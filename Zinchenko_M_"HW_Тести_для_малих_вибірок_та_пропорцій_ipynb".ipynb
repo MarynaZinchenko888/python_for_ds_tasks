{
  "cells": [
    {
      "cell_type": "markdown",
      "metadata": {
        "id": "view-in-github",
        "colab_type": "text"
      },
      "source": [
        "<a href=\"https://colab.research.google.com/github/MarynaZinchenko888/python_for_ds_tasks/blob/main/Zinchenko_M_%22HW_%D0%A2%D0%B5%D1%81%D1%82%D0%B8_%D0%B4%D0%BB%D1%8F_%D0%BC%D0%B0%D0%BB%D0%B8%D1%85_%D0%B2%D0%B8%D0%B1%D1%96%D1%80%D0%BE%D0%BA_%D1%82%D0%B0_%D0%BF%D1%80%D0%BE%D0%BF%D0%BE%D1%80%D1%86%D1%96%D0%B9_ipynb%22.ipynb\" target=\"_parent\"><img src=\"https://colab.research.google.com/assets/colab-badge.svg\" alt=\"Open In Colab\"/></a>"
      ]
    },
    {
      "cell_type": "markdown",
      "id": "e152f6d6",
      "metadata": {
        "ExecuteTime": {
          "end_time": "2022-12-10T14:29:24.703416Z",
          "start_time": "2022-12-10T14:29:24.688485Z"
        },
        "id": "e152f6d6"
      },
      "source": [
        "# Тести для малих вибірок та пропорцій\n",
        "\n"
      ]
    },
    {
      "cell_type": "markdown",
      "id": "abdcef5d",
      "metadata": {
        "id": "abdcef5d"
      },
      "source": [
        "**Завдання 1**. E-commerce компанія після редизайну сайту підозрює, що **середній час до покупки (time-to-purchase)** користувачів **збільшився**.\n",
        "Історично середній час від першого заходу на сайт до покупки становив $\\mu_0 = 123.7$ хвилин.\n",
        "\n",
        "Команда аналітиків випадково обрала дані **7 покупців після редизайну**:\n",
        "`128, 135, 121, 142, 126, 151, 123`\n",
        "\n",
        "З допомогою наявних даних зʼясуйте, чи збільшився середній час покупки після редизайну.\n",
        "\n",
        "Для цього виконайте наступні 6 кроків. Правильне виконання кожного з кроків оцінюється в 1 бал.\n",
        "\n",
        "1. Запишіть нульову та альтернативну гіпотези і визначте тип тесту.\n",
        "2. Обчисліть вибіркові статистики: $\\bar x$, $s$, $n$.\n",
        "3. Оберіть тип тесту та виконайте його (знайдіть критичне значення тесту, статистику тесту та р-значення) будь-яким пасуючим способом, щоб перевірити гіпотезу на рівні значущості $\\alpha = 0.10$.\n",
        "4. Прийміть рішення, чи відхиляєте ви гіпотезу $H_0$ використовуючи p-value.\n",
        "5. Напишіть висновок: чи справді редизайн сайту подовжив час до покупки?\n",
        "6. Чи зміниться ваше рішення при зміні рівня значущості на $\\alpha = 0.05$.\n"
      ]
    },
    {
      "cell_type": "code",
      "source": [
        "import numpy as np\n",
        "from scipy import stats\n",
        "\n",
        "# Дані\n",
        "data = np.array([128, 135, 121, 142, 126, 151, 123])\n",
        "mu0 = 123.7   # історичне середнє\n",
        "alpha = 0.10\n",
        "\n",
        "# 1. Вибіркові статистики\n",
        "n = len(data)\n",
        "x_bar = np.mean(data)\n",
        "s = np.std(data, ddof=1)\n",
        "\n",
        "# 2. t-статистика вручну\n",
        "t_stat = (x_bar - mu0) / (s / np.sqrt(n))\n",
        "df = n - 1\n",
        "\n",
        "# 3. Критичне значення та p-value\n",
        "t_crit = stats.t.ppf(1 - alpha, df)\n",
        "p_value = 1 - stats.t.cdf(t_stat, df)  # одностороннє p-value"
      ],
      "metadata": {
        "id": "BcS4cm11QYpT"
      },
      "id": "BcS4cm11QYpT",
      "execution_count": 12,
      "outputs": []
    },
    {
      "cell_type": "code",
      "source": [
        "print(\"n =\", n)\n",
        "print(\"x̄ =\", round(x_bar, 2))\n",
        "print(\"s =\", round(s, 2))\n",
        "print(\"t-stat =\", round(t_stat, 3))\n",
        "print(\"df =\", df)\n",
        "print(\"t-critical (α=0.10) =\", round(t_crit, 3))\n",
        "print(\"p-value =\", round(p_value, 4))"
      ],
      "metadata": {
        "colab": {
          "base_uri": "https://localhost:8080/"
        },
        "id": "6ntzwrfS22Ma",
        "outputId": "a289b82f-6bd6-48a0-ebed-68b1083a4853"
      },
      "id": "6ntzwrfS22Ma",
      "execution_count": 13,
      "outputs": [
        {
          "output_type": "stream",
          "name": "stdout",
          "text": [
            "n = 7\n",
            "x̄ = 132.29\n",
            "s = 10.98\n",
            "t-stat = 2.069\n",
            "df = 6\n",
            "t-critical (α=0.10) = 1.44\n",
            "p-value = 0.042\n"
          ]
        }
      ]
    },
    {
      "cell_type": "code",
      "source": [
        "# 4. Висновок\n",
        "if p_value < alpha:\n",
        "    print(\"Відхиляємо H0: час до покупки збільшився (статистично значущо).\")\n",
        "else:\n",
        "    print(\"Не відхиляємо H0: немає доказів, що час до покупки збільшився.\")"
      ],
      "metadata": {
        "colab": {
          "base_uri": "https://localhost:8080/"
        },
        "id": "cTvIhsED26Hx",
        "outputId": "c7d95964-adda-45c8-e56b-281e79375ba7"
      },
      "id": "cTvIhsED26Hx",
      "execution_count": 14,
      "outputs": [
        {
          "output_type": "stream",
          "name": "stdout",
          "text": [
            "Відхиляємо H0: час до покупки збільшився (статистично значущо).\n"
          ]
        }
      ]
    },
    {
      "cell_type": "markdown",
      "source": [
        "**Завдання 2.**\n",
        "\n",
        "До спеціальної рекламної кампанії **23%** дорослих упізнавали логотип компанії. Після завершення кампанії відділ маркетингу провів опитування: з **1200** випадково відібраних дорослих **311** упізнали логотип.\n",
        "\n",
        "Перевірте на рівні значущості **3%** ($\\alpha=0.03$), чи дають ці дані достатні підстави стверджувати, що **тепер більше ніж 23%** дорослих упізнають логотип компанії. Для розвʼязку використовуйте бібліотеку `statsmodels`.\n",
        "\n",
        "Зробіть висновок, чи зросла впізнаваність логотипу.\n",
        "\n",
        "Додатково, обчисліть довірчий інтревал на заданому рівні значущості і проінтерпретуйте текстом - як він додатково пояснює прийняте нами рішення?"
      ],
      "metadata": {
        "id": "5govLcx8FPSl"
      },
      "id": "5govLcx8FPSl"
    },
    {
      "cell_type": "code",
      "source": [
        "import statsmodels.api as sm\n",
        "from statsmodels.stats.proportion import proportions_ztest, proportion_confint\n",
        "\n",
        "count = 311   # кількість \"успіхів\" - упізнали логотип\n",
        "nobs = 1200    # обсяг вибірки\n",
        "p0 = 0.23      # гіпотетична пропорція (H0)\n",
        "\n",
        "# z-тест для пропорції\n",
        "stat, pval = proportions_ztest(count, nobs, p0, alternative='larger')\n",
        "confint = proportion_confint(count, nobs, alpha=0.03, method='normal')"
      ],
      "metadata": {
        "id": "TAjOgw2q7IPD"
      },
      "id": "TAjOgw2q7IPD",
      "execution_count": 15,
      "outputs": []
    },
    {
      "cell_type": "code",
      "source": [
        "print(\"🔹 Тест для однієї пропорції\")\n",
        "print(f\"Z-статистика = {stat:.3f}\")\n",
        "print(f\"p-value = {pval:.4f}\")\n",
        "print(f\"97% довірчий інтервал: {confint}\")"
      ],
      "metadata": {
        "id": "zjFUokbN7IG7",
        "colab": {
          "base_uri": "https://localhost:8080/"
        },
        "outputId": "98c0daaf-a63d-410e-d1fe-3b001d6f2056"
      },
      "id": "zjFUokbN7IG7",
      "execution_count": 16,
      "outputs": [
        {
          "output_type": "stream",
          "name": "stdout",
          "text": [
            "🔹 Тест для однієї пропорції\n",
            "Z-статистика = 2.306\n",
            "p-value = 0.0106\n",
            "97% довірчий інтервал: (0.23171700302179205, 0.28661633031154127)\n"
          ]
        }
      ]
    },
    {
      "cell_type": "markdown",
      "source": [
        "Інтерпретація результатів.\n",
        "\n",
        "\n",
        "1. Односторонній тест\n",
        "\n",
        "  * $H_0:p=0.23$\n",
        "  * $H_1:p>0.23$\n",
        "  * Оскільки $p\\text{-value} = 0.0106<0.03$, відхиляємо  $H_0$.\n",
        "    👉 Є статистично значущі докази стверджувати, що частка тих, хто упізнає логотип, **більша за 23%**.\n",
        "2. 97% довірчий інтервал (0.232, 0.287)\n",
        "\n",
        "  Це означає, що з імовірністю 97% справжня частка лежить у межах від **23,2% до 28,7%**."
      ],
      "metadata": {
        "id": "Ypyj1V3lEm6_"
      },
      "id": "Ypyj1V3lEm6_"
    }
  ],
  "metadata": {
    "hide_input": false,
    "kernelspec": {
      "display_name": "Python 3 (ipykernel)",
      "language": "python",
      "name": "python3"
    },
    "language_info": {
      "codemirror_mode": {
        "name": "ipython",
        "version": 3
      },
      "file_extension": ".py",
      "mimetype": "text/x-python",
      "name": "python",
      "nbconvert_exporter": "python",
      "pygments_lexer": "ipython3",
      "version": "3.11.3"
    },
    "toc": {
      "base_numbering": 1,
      "nav_menu": {},
      "number_sections": true,
      "sideBar": true,
      "skip_h1_title": false,
      "title_cell": "Table of Contents",
      "title_sidebar": "Contents",
      "toc_cell": false,
      "toc_position": {},
      "toc_section_display": true,
      "toc_window_display": false
    },
    "varInspector": {
      "cols": {
        "lenName": 16,
        "lenType": 16,
        "lenVar": 40
      },
      "kernels_config": {
        "python": {
          "delete_cmd_postfix": "",
          "delete_cmd_prefix": "del ",
          "library": "var_list.py",
          "varRefreshCmd": "print(var_dic_list())"
        },
        "r": {
          "delete_cmd_postfix": ") ",
          "delete_cmd_prefix": "rm(",
          "library": "var_list.r",
          "varRefreshCmd": "cat(var_dic_list()) "
        }
      },
      "types_to_exclude": [
        "module",
        "function",
        "builtin_function_or_method",
        "instance",
        "_Feature"
      ],
      "window_display": false
    },
    "colab": {
      "provenance": [],
      "include_colab_link": true
    }
  },
  "nbformat": 4,
  "nbformat_minor": 5
}