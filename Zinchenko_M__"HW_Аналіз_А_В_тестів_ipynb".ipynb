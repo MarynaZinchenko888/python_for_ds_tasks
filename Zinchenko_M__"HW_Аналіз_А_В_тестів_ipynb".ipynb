{
  "nbformat": 4,
  "nbformat_minor": 0,
  "metadata": {
    "colab": {
      "provenance": [],
      "include_colab_link": true
    },
    "kernelspec": {
      "name": "python3",
      "display_name": "Python 3"
    },
    "language_info": {
      "name": "python"
    }
  },
  "cells": [
    {
      "cell_type": "markdown",
      "metadata": {
        "id": "view-in-github",
        "colab_type": "text"
      },
      "source": [
        "<a href=\"https://colab.research.google.com/github/MarynaZinchenko888/python_for_ds_tasks/blob/main/Zinchenko_M__%22HW_%D0%90%D0%BD%D0%B0%D0%BB%D1%96%D0%B7_%D0%90_%D0%92_%D1%82%D0%B5%D1%81%D1%82%D1%96%D0%B2_ipynb%22.ipynb\" target=\"_parent\"><img src=\"https://colab.research.google.com/assets/colab-badge.svg\" alt=\"Open In Colab\"/></a>"
      ]
    },
    {
      "cell_type": "markdown",
      "metadata": {
        "ExecuteTime": {
          "end_time": "2022-12-10T17:43:42.137588Z",
          "start_time": "2022-12-10T17:43:42.124712Z"
        },
        "id": "f41183ed"
      },
      "source": [
        "## Аналіз A/B-тестів\n",
        "\n",
        "Ви - аналітик даних в ІТ-компанії і до вас надійшла задача проаналізувати дані A/B тесту в популярній [грі Cookie Cats](https://www.facebook.com/cookiecatsgame). Це - гра-головоломка в стилі «з’єднай три», де гравець повинен з’єднати плитки одного кольору, щоб очистити дошку та виграти рівень. На дошці також зображені співаючі котики :)\n",
        "\n",
        "Під час проходження гри гравці стикаються з воротами, які змушують їх чекати деякий час, перш ніж вони зможуть прогресувати або зробити покупку в додатку.\n",
        "\n",
        "У цьому блоці завдань ми проаналізуємо результати A/B тесту, коли перші ворота в Cookie Cats було переміщено з рівня 30 на рівень 40. Зокрема, ми хочемо зрозуміти, як це вплинуло на утримання (retention) гравців. Тобто хочемо зрозуміти, чи переміщення воріт на 10 рівнів пізніше якимось чином вплинуло на те, що користувачі перестають грати в гру раніше чи пізніше з точки зору кількості їх днів з моменту встановлення гри.\n",
        "\n",
        "Будемо працювати з даними з файлу `cookie_cats.csv`. Колонки в даних наступні:\n",
        "\n",
        "- `userid` - унікальний номер, який ідентифікує кожного гравця.\n",
        "- `version` - чи потрапив гравець в контрольну групу (gate_30 - ворота на 30 рівні) чи тестову групу (gate_40 - ворота на 40 рівні).\n",
        "- `sum_gamerounds` - кількість ігрових раундів, зіграних гравцем протягом першого тижня після встановлення\n",
        "- `retention_1` - чи через 1 день після встановлення гравець повернувся і почав грати?\n",
        "- `retention_7` - чи через 7 днів після встановлення гравець повернувся і почав грати?\n",
        "\n",
        "Коли гравець встановлював гру, його випадковим чином призначали до групи gate_30 або gate_40."
      ]
    },
    {
      "cell_type": "code",
      "source": [
        "from google.colab import drive\n",
        "drive.mount('/content/drive')"
      ],
      "metadata": {
        "colab": {
          "base_uri": "https://localhost:8080/"
        },
        "id": "YdctG1j7m7la",
        "outputId": "a5e2fbca-8d04-4989-ad31-c3082e852340"
      },
      "execution_count": 38,
      "outputs": [
        {
          "output_type": "stream",
          "name": "stdout",
          "text": [
            "Drive already mounted at /content/drive; to attempt to forcibly remount, call drive.mount(\"/content/drive\", force_remount=True).\n"
          ]
        }
      ]
    },
    {
      "cell_type": "code",
      "source": [
        "import numpy as np\n",
        "import pandas as pd\n",
        "from scipy.stats import chi2_contingency\n",
        "from statsmodels.stats.proportion import proportion_effectsize, proportions_ztest, proportion_confint\n",
        "from statsmodels.stats.power import NormalIndPower\n",
        "\n",
        "data_path = \"/content/cookie_cats.csv\"\n",
        "df = pd.read_csv(data_path)\n",
        "\n",
        "print(df.shape)\n",
        "df.head()"
      ],
      "metadata": {
        "colab": {
          "base_uri": "https://localhost:8080/",
          "height": 223
        },
        "id": "jcUMgAnDn8Qo",
        "outputId": "935fc951-856c-4cc2-d880-6a2f4e39b2a7"
      },
      "execution_count": 39,
      "outputs": [
        {
          "output_type": "stream",
          "name": "stdout",
          "text": [
            "(90189, 5)\n"
          ]
        },
        {
          "output_type": "execute_result",
          "data": {
            "text/plain": [
              "   userid  version  sum_gamerounds  retention_1  retention_7\n",
              "0     116  gate_30               3        False        False\n",
              "1     337  gate_30              38         True        False\n",
              "2     377  gate_40             165         True        False\n",
              "3     483  gate_40               1        False        False\n",
              "4     488  gate_40             179         True         True"
            ],
            "text/html": [
              "\n",
              "  <div id=\"df-14cbc3c6-958a-40f1-a658-63e31f8d17ee\" class=\"colab-df-container\">\n",
              "    <div>\n",
              "<style scoped>\n",
              "    .dataframe tbody tr th:only-of-type {\n",
              "        vertical-align: middle;\n",
              "    }\n",
              "\n",
              "    .dataframe tbody tr th {\n",
              "        vertical-align: top;\n",
              "    }\n",
              "\n",
              "    .dataframe thead th {\n",
              "        text-align: right;\n",
              "    }\n",
              "</style>\n",
              "<table border=\"1\" class=\"dataframe\">\n",
              "  <thead>\n",
              "    <tr style=\"text-align: right;\">\n",
              "      <th></th>\n",
              "      <th>userid</th>\n",
              "      <th>version</th>\n",
              "      <th>sum_gamerounds</th>\n",
              "      <th>retention_1</th>\n",
              "      <th>retention_7</th>\n",
              "    </tr>\n",
              "  </thead>\n",
              "  <tbody>\n",
              "    <tr>\n",
              "      <th>0</th>\n",
              "      <td>116</td>\n",
              "      <td>gate_30</td>\n",
              "      <td>3</td>\n",
              "      <td>False</td>\n",
              "      <td>False</td>\n",
              "    </tr>\n",
              "    <tr>\n",
              "      <th>1</th>\n",
              "      <td>337</td>\n",
              "      <td>gate_30</td>\n",
              "      <td>38</td>\n",
              "      <td>True</td>\n",
              "      <td>False</td>\n",
              "    </tr>\n",
              "    <tr>\n",
              "      <th>2</th>\n",
              "      <td>377</td>\n",
              "      <td>gate_40</td>\n",
              "      <td>165</td>\n",
              "      <td>True</td>\n",
              "      <td>False</td>\n",
              "    </tr>\n",
              "    <tr>\n",
              "      <th>3</th>\n",
              "      <td>483</td>\n",
              "      <td>gate_40</td>\n",
              "      <td>1</td>\n",
              "      <td>False</td>\n",
              "      <td>False</td>\n",
              "    </tr>\n",
              "    <tr>\n",
              "      <th>4</th>\n",
              "      <td>488</td>\n",
              "      <td>gate_40</td>\n",
              "      <td>179</td>\n",
              "      <td>True</td>\n",
              "      <td>True</td>\n",
              "    </tr>\n",
              "  </tbody>\n",
              "</table>\n",
              "</div>\n",
              "    <div class=\"colab-df-buttons\">\n",
              "\n",
              "  <div class=\"colab-df-container\">\n",
              "    <button class=\"colab-df-convert\" onclick=\"convertToInteractive('df-14cbc3c6-958a-40f1-a658-63e31f8d17ee')\"\n",
              "            title=\"Convert this dataframe to an interactive table.\"\n",
              "            style=\"display:none;\">\n",
              "\n",
              "  <svg xmlns=\"http://www.w3.org/2000/svg\" height=\"24px\" viewBox=\"0 -960 960 960\">\n",
              "    <path d=\"M120-120v-720h720v720H120Zm60-500h600v-160H180v160Zm220 220h160v-160H400v160Zm0 220h160v-160H400v160ZM180-400h160v-160H180v160Zm440 0h160v-160H620v160ZM180-180h160v-160H180v160Zm440 0h160v-160H620v160Z\"/>\n",
              "  </svg>\n",
              "    </button>\n",
              "\n",
              "  <style>\n",
              "    .colab-df-container {\n",
              "      display:flex;\n",
              "      gap: 12px;\n",
              "    }\n",
              "\n",
              "    .colab-df-convert {\n",
              "      background-color: #E8F0FE;\n",
              "      border: none;\n",
              "      border-radius: 50%;\n",
              "      cursor: pointer;\n",
              "      display: none;\n",
              "      fill: #1967D2;\n",
              "      height: 32px;\n",
              "      padding: 0 0 0 0;\n",
              "      width: 32px;\n",
              "    }\n",
              "\n",
              "    .colab-df-convert:hover {\n",
              "      background-color: #E2EBFA;\n",
              "      box-shadow: 0px 1px 2px rgba(60, 64, 67, 0.3), 0px 1px 3px 1px rgba(60, 64, 67, 0.15);\n",
              "      fill: #174EA6;\n",
              "    }\n",
              "\n",
              "    .colab-df-buttons div {\n",
              "      margin-bottom: 4px;\n",
              "    }\n",
              "\n",
              "    [theme=dark] .colab-df-convert {\n",
              "      background-color: #3B4455;\n",
              "      fill: #D2E3FC;\n",
              "    }\n",
              "\n",
              "    [theme=dark] .colab-df-convert:hover {\n",
              "      background-color: #434B5C;\n",
              "      box-shadow: 0px 1px 3px 1px rgba(0, 0, 0, 0.15);\n",
              "      filter: drop-shadow(0px 1px 2px rgba(0, 0, 0, 0.3));\n",
              "      fill: #FFFFFF;\n",
              "    }\n",
              "  </style>\n",
              "\n",
              "    <script>\n",
              "      const buttonEl =\n",
              "        document.querySelector('#df-14cbc3c6-958a-40f1-a658-63e31f8d17ee button.colab-df-convert');\n",
              "      buttonEl.style.display =\n",
              "        google.colab.kernel.accessAllowed ? 'block' : 'none';\n",
              "\n",
              "      async function convertToInteractive(key) {\n",
              "        const element = document.querySelector('#df-14cbc3c6-958a-40f1-a658-63e31f8d17ee');\n",
              "        const dataTable =\n",
              "          await google.colab.kernel.invokeFunction('convertToInteractive',\n",
              "                                                    [key], {});\n",
              "        if (!dataTable) return;\n",
              "\n",
              "        const docLinkHtml = 'Like what you see? Visit the ' +\n",
              "          '<a target=\"_blank\" href=https://colab.research.google.com/notebooks/data_table.ipynb>data table notebook</a>'\n",
              "          + ' to learn more about interactive tables.';\n",
              "        element.innerHTML = '';\n",
              "        dataTable['output_type'] = 'display_data';\n",
              "        await google.colab.output.renderOutput(dataTable, element);\n",
              "        const docLink = document.createElement('div');\n",
              "        docLink.innerHTML = docLinkHtml;\n",
              "        element.appendChild(docLink);\n",
              "      }\n",
              "    </script>\n",
              "  </div>\n",
              "\n",
              "\n",
              "    <div id=\"df-78269264-6122-4ed0-853d-fa825fea0602\">\n",
              "      <button class=\"colab-df-quickchart\" onclick=\"quickchart('df-78269264-6122-4ed0-853d-fa825fea0602')\"\n",
              "                title=\"Suggest charts\"\n",
              "                style=\"display:none;\">\n",
              "\n",
              "<svg xmlns=\"http://www.w3.org/2000/svg\" height=\"24px\"viewBox=\"0 0 24 24\"\n",
              "     width=\"24px\">\n",
              "    <g>\n",
              "        <path d=\"M19 3H5c-1.1 0-2 .9-2 2v14c0 1.1.9 2 2 2h14c1.1 0 2-.9 2-2V5c0-1.1-.9-2-2-2zM9 17H7v-7h2v7zm4 0h-2V7h2v10zm4 0h-2v-4h2v4z\"/>\n",
              "    </g>\n",
              "</svg>\n",
              "      </button>\n",
              "\n",
              "<style>\n",
              "  .colab-df-quickchart {\n",
              "      --bg-color: #E8F0FE;\n",
              "      --fill-color: #1967D2;\n",
              "      --hover-bg-color: #E2EBFA;\n",
              "      --hover-fill-color: #174EA6;\n",
              "      --disabled-fill-color: #AAA;\n",
              "      --disabled-bg-color: #DDD;\n",
              "  }\n",
              "\n",
              "  [theme=dark] .colab-df-quickchart {\n",
              "      --bg-color: #3B4455;\n",
              "      --fill-color: #D2E3FC;\n",
              "      --hover-bg-color: #434B5C;\n",
              "      --hover-fill-color: #FFFFFF;\n",
              "      --disabled-bg-color: #3B4455;\n",
              "      --disabled-fill-color: #666;\n",
              "  }\n",
              "\n",
              "  .colab-df-quickchart {\n",
              "    background-color: var(--bg-color);\n",
              "    border: none;\n",
              "    border-radius: 50%;\n",
              "    cursor: pointer;\n",
              "    display: none;\n",
              "    fill: var(--fill-color);\n",
              "    height: 32px;\n",
              "    padding: 0;\n",
              "    width: 32px;\n",
              "  }\n",
              "\n",
              "  .colab-df-quickchart:hover {\n",
              "    background-color: var(--hover-bg-color);\n",
              "    box-shadow: 0 1px 2px rgba(60, 64, 67, 0.3), 0 1px 3px 1px rgba(60, 64, 67, 0.15);\n",
              "    fill: var(--button-hover-fill-color);\n",
              "  }\n",
              "\n",
              "  .colab-df-quickchart-complete:disabled,\n",
              "  .colab-df-quickchart-complete:disabled:hover {\n",
              "    background-color: var(--disabled-bg-color);\n",
              "    fill: var(--disabled-fill-color);\n",
              "    box-shadow: none;\n",
              "  }\n",
              "\n",
              "  .colab-df-spinner {\n",
              "    border: 2px solid var(--fill-color);\n",
              "    border-color: transparent;\n",
              "    border-bottom-color: var(--fill-color);\n",
              "    animation:\n",
              "      spin 1s steps(1) infinite;\n",
              "  }\n",
              "\n",
              "  @keyframes spin {\n",
              "    0% {\n",
              "      border-color: transparent;\n",
              "      border-bottom-color: var(--fill-color);\n",
              "      border-left-color: var(--fill-color);\n",
              "    }\n",
              "    20% {\n",
              "      border-color: transparent;\n",
              "      border-left-color: var(--fill-color);\n",
              "      border-top-color: var(--fill-color);\n",
              "    }\n",
              "    30% {\n",
              "      border-color: transparent;\n",
              "      border-left-color: var(--fill-color);\n",
              "      border-top-color: var(--fill-color);\n",
              "      border-right-color: var(--fill-color);\n",
              "    }\n",
              "    40% {\n",
              "      border-color: transparent;\n",
              "      border-right-color: var(--fill-color);\n",
              "      border-top-color: var(--fill-color);\n",
              "    }\n",
              "    60% {\n",
              "      border-color: transparent;\n",
              "      border-right-color: var(--fill-color);\n",
              "    }\n",
              "    80% {\n",
              "      border-color: transparent;\n",
              "      border-right-color: var(--fill-color);\n",
              "      border-bottom-color: var(--fill-color);\n",
              "    }\n",
              "    90% {\n",
              "      border-color: transparent;\n",
              "      border-bottom-color: var(--fill-color);\n",
              "    }\n",
              "  }\n",
              "</style>\n",
              "\n",
              "      <script>\n",
              "        async function quickchart(key) {\n",
              "          const quickchartButtonEl =\n",
              "            document.querySelector('#' + key + ' button');\n",
              "          quickchartButtonEl.disabled = true;  // To prevent multiple clicks.\n",
              "          quickchartButtonEl.classList.add('colab-df-spinner');\n",
              "          try {\n",
              "            const charts = await google.colab.kernel.invokeFunction(\n",
              "                'suggestCharts', [key], {});\n",
              "          } catch (error) {\n",
              "            console.error('Error during call to suggestCharts:', error);\n",
              "          }\n",
              "          quickchartButtonEl.classList.remove('colab-df-spinner');\n",
              "          quickchartButtonEl.classList.add('colab-df-quickchart-complete');\n",
              "        }\n",
              "        (() => {\n",
              "          let quickchartButtonEl =\n",
              "            document.querySelector('#df-78269264-6122-4ed0-853d-fa825fea0602 button');\n",
              "          quickchartButtonEl.style.display =\n",
              "            google.colab.kernel.accessAllowed ? 'block' : 'none';\n",
              "        })();\n",
              "      </script>\n",
              "    </div>\n",
              "    </div>\n",
              "  </div>\n"
            ],
            "application/vnd.google.colaboratory.intrinsic+json": {
              "type": "dataframe",
              "variable_name": "df",
              "summary": "{\n  \"name\": \"df\",\n  \"rows\": 90189,\n  \"fields\": [\n    {\n      \"column\": \"userid\",\n      \"properties\": {\n        \"dtype\": \"number\",\n        \"std\": 2883285,\n        \"min\": 116,\n        \"max\": 9999861,\n        \"num_unique_values\": 90189,\n        \"samples\": [\n          3266525,\n          3937667,\n          2861986\n        ],\n        \"semantic_type\": \"\",\n        \"description\": \"\"\n      }\n    },\n    {\n      \"column\": \"version\",\n      \"properties\": {\n        \"dtype\": \"category\",\n        \"num_unique_values\": 2,\n        \"samples\": [\n          \"gate_40\",\n          \"gate_30\"\n        ],\n        \"semantic_type\": \"\",\n        \"description\": \"\"\n      }\n    },\n    {\n      \"column\": \"sum_gamerounds\",\n      \"properties\": {\n        \"dtype\": \"number\",\n        \"std\": 195,\n        \"min\": 0,\n        \"max\": 49854,\n        \"num_unique_values\": 942,\n        \"samples\": [\n          346,\n          523\n        ],\n        \"semantic_type\": \"\",\n        \"description\": \"\"\n      }\n    },\n    {\n      \"column\": \"retention_1\",\n      \"properties\": {\n        \"dtype\": \"boolean\",\n        \"num_unique_values\": 2,\n        \"samples\": [\n          true,\n          false\n        ],\n        \"semantic_type\": \"\",\n        \"description\": \"\"\n      }\n    },\n    {\n      \"column\": \"retention_7\",\n      \"properties\": {\n        \"dtype\": \"boolean\",\n        \"num_unique_values\": 2,\n        \"samples\": [\n          true,\n          false\n        ],\n        \"semantic_type\": \"\",\n        \"description\": \"\"\n      }\n    }\n  ]\n}"
            }
          },
          "metadata": {},
          "execution_count": 39
        }
      ]
    },
    {
      "cell_type": "markdown",
      "source": [
        "1. Для початку, уявімо, що ми тільки плануємо проведення зазначеного А/B-тесту і хочемо зрозуміти, дані про скількох користувачів нам треба зібрати, аби досягнути відчутного ефекту. Відчутним ефектом ми вважатимемо збільшення утримання на 1% після внесення зміни. Обчисліть, скільки користувачів сумарно нам треба аби досягнути такого ефекту, якщо продакт менеджер нам повідомив, що базове утримання є 19%."
      ],
      "metadata": {
        "id": "XKhHA3eiueo0"
      }
    },
    {
      "cell_type": "code",
      "source": [
        "# Дані з завдання\n",
        "p_base = 0.19        # базове утримання (контрольна група)\n",
        "p_min_effect = 0.01  # мінімально відчутний ефект (1%)\n",
        "alpha = 0.05         # рівень значущості\n",
        "power = 0.8          # бажана потужність тесту\n",
        "\n",
        "# Розрахунок розміру вибірки для двох пропорцій\n",
        "effect_size = (p_base + p_min_effect - p_base) / np.sqrt(p_base * (1 - p_base))\n",
        "analysis = NormalIndPower()\n",
        "n_per_group = analysis.solve_power(effect_size=effect_size, power=power, alpha=alpha, alternative='larger')\n",
        "\n",
        "# Загальна кількість користувачів\n",
        "n_total = n_per_group * 2\n",
        "\n",
        "print(\"\\n🔹 Планування A/B-тесту (Cookie Cats)\")\n",
        "print(f\"Розмір вибірки на групу ≈ {int(np.ceil(n_per_group))} користувачів\")\n",
        "print(f\"Загальна кількість користувачів ≈ {int(np.ceil(n_total))} користувачів\")"
      ],
      "metadata": {
        "id": "TcZ32BcIufKU",
        "colab": {
          "base_uri": "https://localhost:8080/"
        },
        "outputId": "3cbe3e10-24cc-42e0-8335-833765098cf2"
      },
      "execution_count": 40,
      "outputs": [
        {
          "output_type": "stream",
          "name": "stdout",
          "text": [
            "\n",
            "🔹 Планування A/B-тесту (Cookie Cats)\n",
            "Розмір вибірки на групу ≈ 19030 користувачів\n",
            "Загальна кількість користувачів ≈ 38060 користувачів\n"
          ]
        }
      ]
    },
    {
      "cell_type": "markdown",
      "metadata": {
        "id": "22f03df4"
      },
      "source": [
        "2. Зчитайте дані АВ тесту у змінну `df` та виведіть середнє значення показника показник `retention_7` (утримання на 7 день) по версіям гри. Сформулюйте гіпотезу: яка версія дає краще утримання через 7 днів після встановлення гри?"
      ]
    },
    {
      "cell_type": "code",
      "source": [
        "data_path = \"cookie_cats.csv\"\n",
        "df = pd.read_csv(data_path)\n",
        "\n",
        "# Середнє утримання через 7 днів по версіях\n",
        "retention_means = df.groupby(\"version\")[\"retention_7\"].mean()\n",
        "\n",
        "print(\"\\n🔹 Середнє утримання на 7 день по версіях\")\n",
        "print(retention_means)\n",
        "\n",
        "# Формулювання гіпотез\n",
        "print(\"\\nГіпотези:\")\n",
        "print(\"H0: Утримання на 7 день однакове у обох версіях гри (gate_30 = gate_40)\")\n",
        "print(\"H1: Утримання на 7 день відрізняється між версіями гри (gate_40 > gate_30), тобто зміщення воріт покращує утримання\")"
      ],
      "metadata": {
        "id": "MVzMTs-jh22b",
        "colab": {
          "base_uri": "https://localhost:8080/"
        },
        "outputId": "4617dfbd-f765-4014-bd1c-fe86b8936245"
      },
      "execution_count": 41,
      "outputs": [
        {
          "output_type": "stream",
          "name": "stdout",
          "text": [
            "\n",
            "🔹 Середнє утримання на 7 день по версіях\n",
            "version\n",
            "gate_30    0.190201\n",
            "gate_40    0.182000\n",
            "Name: retention_7, dtype: float64\n",
            "\n",
            "Гіпотези:\n",
            "H0: Утримання на 7 день однакове у обох версіях гри (gate_30 = gate_40)\n",
            "H1: Утримання на 7 день відрізняється між версіями гри (gate_40 > gate_30), тобто зміщення воріт покращує утримання\n"
          ]
        }
      ]
    },
    {
      "cell_type": "markdown",
      "metadata": {
        "id": "74e9c6ca"
      },
      "source": [
        "3. Перевірте з допомогою пасуючого варіанту z-тесту, чи дає якась з версій гри кращий показник `retention_7` на рівні значущості 0.05. Обчисліть також довірчі інтервали для варіантів до переміщення воріт і після. Виведіть результат у форматі:\n",
        "\n",
        "    ```\n",
        "    z statistic: ...\n",
        "    p-value: ...\n",
        "    Довірчий інтервал 95% для групи control: [..., ...]\n",
        "    Довірчий інтервал 95% для групи treatment: [..., ...]\n",
        "    ```\n",
        "\n",
        "    де замість `...` - обчислені значення.\n",
        "    \n",
        "    В якості висновку дайте відповідь на два питання:  \n",
        "\n",
        "      1. Чи є статистична значущою різниця між поведінкою користувачів у різних версіях гри?   \n",
        "      2. Чи перетинаються довірчі інтервали утримання користувачів з різних версій гри? Про що це каже?  \n"
      ]
    },
    {
      "cell_type": "code",
      "source": [
        "# Вибір груп\n",
        "control = df[df[\"version\"] == \"gate_30\"][\"retention_7\"]\n",
        "treatment = df[df[\"version\"] == \"gate_40\"][\"retention_7\"]\n",
        "\n",
        "# Кількість успіхів (гравці, які повернулись) і розмір групи\n",
        "successes = np.array([control.sum(), treatment.sum()])\n",
        "nobs = np.array([control.count(), treatment.count()])\n",
        "\n",
        "# Z-тест для двох пропорцій (односторонній: treatment > control)\n",
        "z_stat, p_value = proportions_ztest(successes, nobs, alternative='larger')\n",
        "\n",
        "# Довірчі інтервали 95% для кожної групи\n",
        "ci_control = proportion_confint(count=successes[0], nobs=nobs[0], alpha=0.05, method='normal')\n",
        "ci_treatment = proportion_confint(count=successes[1], nobs=nobs[1], alpha=0.05, method='normal')"
      ],
      "metadata": {
        "id": "kXQE4gyjh5MS"
      },
      "execution_count": 42,
      "outputs": []
    },
    {
      "cell_type": "code",
      "source": [
        "print(\"\\n🔹 Результати Z-тесту для retention_7\")\n",
        "print(f\"z statistic: {z_stat:.3f}\")\n",
        "print(f\"p-value: {p_value:.6f}\")\n",
        "print(f\"Довірчий інтервал 95% для групи control (gate_30): [{ci_control[0]:.3f}, {ci_control[1]:.3f}]\")\n",
        "print(f\"Довірчий інтервал 95% для групи treatment (gate_40): [{ci_treatment[0]:.3f}, {ci_treatment[1]:.3f}]\")"
      ],
      "metadata": {
        "colab": {
          "base_uri": "https://localhost:8080/"
        },
        "id": "mpdfKkst33IC",
        "outputId": "1841fb69-65ac-413f-8c2e-79498e39bfad"
      },
      "execution_count": 43,
      "outputs": [
        {
          "output_type": "stream",
          "name": "stdout",
          "text": [
            "\n",
            "🔹 Результати Z-тесту для retention_7\n",
            "z statistic: 3.164\n",
            "p-value: 0.000777\n",
            "Довірчий інтервал 95% для групи control (gate_30): [0.187, 0.194]\n",
            "Довірчий інтервал 95% для групи treatment (gate_40): [0.178, 0.186]\n"
          ]
        }
      ]
    },
    {
      "cell_type": "code",
      "source": [
        "print(\"\\nВисновки:\")\n",
        "if p_value < 0.05:\n",
        "    print(\"- Статистично значуща різниця між версіями гри є (p < 0.05).\")\n",
        "else:\n",
        "    print(\"- Статистично значущої різниці між версіями гри немає (p ≥ 0.05).\")\n",
        "\n",
        "if ci_control[1] < ci_treatment[0] or ci_treatment[1] < ci_control[0]:\n",
        "    print(\"- Довірчі інтервали не перетинаються, що підтверджує відмінність утримання між групами.\")\n",
        "else:\n",
        "    print(\"- Довірчі інтервали перетинаються, що свідчить про можливу схожість утримання між групами.\")"
      ],
      "metadata": {
        "colab": {
          "base_uri": "https://localhost:8080/"
        },
        "id": "T96gT2qu32_q",
        "outputId": "8cedef8b-e2fb-4015-ef05-897f987b91e7"
      },
      "execution_count": 44,
      "outputs": [
        {
          "output_type": "stream",
          "name": "stdout",
          "text": [
            "\n",
            "Висновки:\n",
            "- Статистично значуща різниця між версіями гри є (p < 0.05).\n",
            "- Довірчі інтервали не перетинаються, що підтверджує відмінність утримання між групами.\n"
          ]
        }
      ]
    },
    {
      "cell_type": "markdown",
      "metadata": {
        "ExecuteTime": {
          "end_time": "2022-12-10T20:50:10.709766Z",
          "start_time": "2022-12-10T20:50:10.639999Z"
        },
        "id": "076cd867"
      },
      "source": [
        "4. Виконайте тест Хі-квадрат на рівні значущості 5% аби визначити, чи є залежність між версією гри та утриманням гравця на 7ий день після реєстрації.\n",
        "\n",
        "    - Напишіть, як для цього тесту будуть сформульовані гіпотези.\n",
        "    - Проведіть обчислення, виведіть p-значення і напишіть висновок за результатами тесту.\n"
      ]
    },
    {
      "cell_type": "code",
      "source": [
        "# Таблиця спостережень (контингентна таблиця)\n",
        "contingency_table = pd.crosstab(df[\"version\"], df[\"retention_7\"])\n",
        "\n",
        "print(\"🔹 Контингентна таблиця:\\n\", contingency_table)\n",
        "\n",
        "# Гіпотези:\n",
        "# H0: Утримання на 7 день однакове у обох версіях гри (gate_30 = gate_40)\n",
        "# H1: Утримання на 7 день відрізняється між версіями гри (gate_40 > gate_30), тобто зміщення воріт покращує утримання\n",
        "\n",
        "chi2_stat, p_value, dof, expected = chi2_contingency(contingency_table)\n",
        "\n",
        "\n",
        "alpha = 0.05       #рівень значущості\n",
        "\n",
        "print(f\"\\np-value: {p_value:.6f}\")"
      ],
      "metadata": {
        "id": "kcwD-91Fh84n",
        "colab": {
          "base_uri": "https://localhost:8080/"
        },
        "outputId": "18afa1f5-3000-49e1-a818-f47ffd85620d"
      },
      "execution_count": 45,
      "outputs": [
        {
          "output_type": "stream",
          "name": "stdout",
          "text": [
            "🔹 Контингентна таблиця:\n",
            " retention_7  False  True \n",
            "version                  \n",
            "gate_30      36198   8502\n",
            "gate_40      37210   8279\n",
            "\n",
            "p-value: 0.001601\n"
          ]
        }
      ]
    },
    {
      "cell_type": "code",
      "source": [
        "if p_value < alpha:\n",
        "    print(\"Висновок: Є статистично значуща залежність між версією гри та утриманням на 7 день, тому H0 відхиляємо.\")\n",
        "else:\n",
        "    print(\"Висновок: Немає статистично значущої залежності між версією гри та утриманням на 7 день, тому H0 не відхиляємо.\")"
      ],
      "metadata": {
        "colab": {
          "base_uri": "https://localhost:8080/"
        },
        "id": "jFtsTl_k51QK",
        "outputId": "449c805c-33e0-4d74-8b99-d314981f5958"
      },
      "execution_count": 46,
      "outputs": [
        {
          "output_type": "stream",
          "name": "stdout",
          "text": [
            "Висновок: Є статистично значуща залежність між версією гри та утриманням на 7 день, тому H0 відхиляємо.\n"
          ]
        }
      ]
    }
  ]
}